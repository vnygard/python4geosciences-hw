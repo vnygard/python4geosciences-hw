{
 "cells": [
  {
   "cell_type": "code",
   "execution_count": 1,
   "metadata": {
    "collapsed": false
   },
   "outputs": [
    {
     "name": "stdout",
     "output_type": "stream",
     "text": [
      "This is Vance Nygard's homework solution.\n"
     ]
    }
   ],
   "source": [
    "print('This is Vance Nygard\\'s homework solution.')"
   ]
  },
  {
   "cell_type": "code",
   "execution_count": 2,
   "metadata": {
    "collapsed": true
   },
   "outputs": [],
   "source": [
    "import numpy as np"
   ]
  },
  {
   "cell_type": "code",
   "execution_count": 3,
   "metadata": {
    "collapsed": false
   },
   "outputs": [
    {
     "name": "stdout",
     "output_type": "stream",
     "text": [
      "[ 0.  0.  0.  0.  1.  0.  0.  0.  0.  0.]\n"
     ]
    }
   ],
   "source": [
    "#Problem 1\n",
    "\n",
    "vec = np.zeros(10)\n",
    "vec[4] = 1\n",
    "print(vec)"
   ]
  },
  {
   "cell_type": "code",
   "execution_count": 4,
   "metadata": {
    "collapsed": false
   },
   "outputs": [
    {
     "name": "stdout",
     "output_type": "stream",
     "text": [
      "[10 11 12 13 14 15 16 17 18 19 20 21 22 23 24 25 26 27 28 29 30 31 32 33 34\n",
      " 35 36 37 38 39 40 41 42 43 44 45 46 47 48 49]\n"
     ]
    }
   ],
   "source": [
    "# Problem 2\n",
    "vec = np.arange(10,50)\n",
    "print(vec)"
   ]
  },
  {
   "cell_type": "code",
   "execution_count": 5,
   "metadata": {
    "collapsed": false
   },
   "outputs": [
    {
     "name": "stdout",
     "output_type": "stream",
     "text": [
      "[0 1 2 3 4 5 6 7 8 9]\n",
      "[9, 8, 7, 6, 5, 4, 3, 2, 1, 0]\n"
     ]
    }
   ],
   "source": [
    "#Problem 3\n",
    "\n",
    "def reverse(x):\n",
    "# Reverses a function, keeping the dimensions the same.\n",
    "    z = np.array(x)\n",
    "    length = len(x)\n",
    "    y = [] \n",
    "    for i,value in enumerate(x):\n",
    "        index = length - i - 1\n",
    "        inv_value = z[index]\n",
    "        y.append(inv_value)\n",
    "    return y\n",
    "\n",
    "m = np.arange(0,10)\n",
    "reverse(m)\n",
    "print(m)\n",
    "print(reverse(m))"
   ]
  },
  {
   "cell_type": "code",
   "execution_count": 6,
   "metadata": {
    "collapsed": false
   },
   "outputs": [
    {
     "data": {
      "text/plain": [
       "(array([2, 3, 5], dtype=int64),)"
      ]
     },
     "execution_count": 6,
     "metadata": {},
     "output_type": "execute_result"
    }
   ],
   "source": [
    "#Problem 4\n",
    "\n",
    "def find_nonzero(x):\n",
    "    #Find the nonzero elements of an array.\n",
    "    z = np.array(x)\n",
    "    index = np.where(z == 0)\n",
    "    return index\n",
    "    print(index)\n",
    "        \n",
    "find_nonzero(np.array([1,2,0,0,4,0]))"
   ]
  },
  {
   "cell_type": "code",
   "execution_count": 7,
   "metadata": {
    "collapsed": false
   },
   "outputs": [
    {
     "data": {
      "text/plain": [
       "array([[ 1.25658987, -0.40346472, -0.32069935],\n",
       "       [ 0.04146541,  1.4523445 ,  0.88795065],\n",
       "       [ 0.02083078, -1.21906165,  0.02759444]])"
      ]
     },
     "execution_count": 7,
     "metadata": {},
     "output_type": "execute_result"
    }
   ],
   "source": [
    "#Problem 5\n",
    "\n",
    "x = 1 * np.random.randn(3,3) + 0\n",
    "x"
   ]
  },
  {
   "cell_type": "code",
   "execution_count": 8,
   "metadata": {
    "collapsed": false
   },
   "outputs": [
    {
     "name": "stdout",
     "output_type": "stream",
     "text": [
      "[[ 0.34841798  0.99311306  0.34209674  0.87663094  0.31052149  0.51779737\n",
      "   0.25555441  0.76422167  0.41693567  0.05545422]\n",
      " [ 0.08315386  0.57197218  0.66166056  0.20138118  0.43888779  0.25699086\n",
      "   0.53388779  0.19318932  0.31210414  0.73174991]\n",
      " [ 0.4584181   0.82358577  0.09948012  0.7749115   0.82229096  0.51650448\n",
      "   0.20633936  0.30255494  0.51607441  0.06134086]\n",
      " [ 0.09860867  0.29188039  0.22587179  0.58103242  0.85560215  0.39918326\n",
      "   0.11052305  0.00936605  0.53512746  0.90109795]\n",
      " [ 0.3437578   0.80705239  0.83603842  0.66430249  0.86850144  0.53939606\n",
      "   0.51474829  0.49804981  0.56982374  0.56816905]\n",
      " [ 0.69825721  0.68478147  0.82312194  0.95166384  0.26357208  0.55549404\n",
      "   0.63299263  0.33773771  0.37844569  0.78944279]\n",
      " [ 0.6614338   0.78523911  0.71346029  0.83953346  0.49884536  0.32335902\n",
      "   0.83387568  0.09957428  0.71225574  0.59467295]\n",
      " [ 0.37989057  0.70018726  0.5496391   0.84485683  0.25662377  0.1520217\n",
      "   0.6797243   0.59091707  0.23349458  0.22911187]\n",
      " [ 0.47775851  0.0766875   0.28457186  0.31440182  0.35279183  0.10992411\n",
      "   0.72540886  0.86978655  0.29557447  0.21545309]\n",
      " [ 0.54216491  0.85087917  0.73918685  0.59891699  0.87546967  0.53604301\n",
      "   0.72448947  0.0104451   0.8679269   0.60006992]]\n",
      "0.0766875001661\n",
      "0.00936605031093\n"
     ]
    }
   ],
   "source": [
    "#Problem 6\n",
    "\n",
    "x = np.random.rand(10,10)\n",
    "y = x[:,1]\n",
    "z = x[3,:]\n",
    "print(x)\n",
    "print(np.amin(y))\n",
    "print(np.amin(z))"
   ]
  },
  {
   "cell_type": "code",
   "execution_count": 9,
   "metadata": {
    "collapsed": false
   },
   "outputs": [
    {
     "name": "stdout",
     "output_type": "stream",
     "text": [
      "[ 0.18359185  0.89752713  0.43135908  0.56420084  0.55404611  0.94538816\n",
      "  0.58916582  0.81737692  0.88709495  0.96023577]\n"
     ]
    }
   ],
   "source": [
    "#Problem 7\n",
    "vec = np.random.rand(10)\n",
    "vec[2] == 0\n",
    "for index, i in enumerate (vec):\n",
    "    j = np.random.rand(1)\n",
    "    if i == 0:\n",
    "        vec[index] == j\n",
    "print(vec)"
   ]
  },
  {
   "cell_type": "code",
   "execution_count": 10,
   "metadata": {
    "collapsed": false
   },
   "outputs": [
    {
     "data": {
      "text/plain": [
       "array([ 0.05296783,  0.20826288,  0.35775149,  0.36031513,  0.38230586,\n",
       "        0.42982426,  0.45283109,  0.52416585,  0.59093241,  0.83803723])"
      ]
     },
     "execution_count": 10,
     "metadata": {},
     "output_type": "execute_result"
    }
   ],
   "source": [
    "#Problem 8\n",
    "vec = np.sort(np.random.rand(10))\n",
    "vec"
   ]
  },
  {
   "cell_type": "code",
   "execution_count": 11,
   "metadata": {
    "collapsed": false
   },
   "outputs": [
    {
     "name": "stdout",
     "output_type": "stream",
     "text": [
      "True\n",
      "False\n",
      "False\n"
     ]
    }
   ],
   "source": [
    "#Problem 9\n",
    "\n",
    "def is_equal(a,b):\n",
    "    \"Test for equality of arrays.\"\n",
    "\n",
    "    if np.size(a) == np.size(b):\n",
    "        if np.sum(a==b) == len(a):\n",
    "            return True\n",
    "    else:\n",
    "        return False\n",
    "\n",
    "s = np.arange(1,5)\n",
    "t = np.arange(1,5)\n",
    "u = np.arange(1,6)\n",
    "v = np.random.rand(1,5)\n",
    "\n",
    "print(is_equal(s,t))\n",
    "print(is_equal(s,u))\n",
    "print(is_equal(s,v))"
   ]
  },
  {
   "cell_type": "code",
   "execution_count": 12,
   "metadata": {
    "collapsed": false
   },
   "outputs": [
    {
     "name": "stdout",
     "output_type": "stream",
     "text": [
      "[[ 0.25262921  0.72999012  0.20735412]\n",
      " [ 0.3445809   0.62553697  0.39511613]\n",
      " [ 0.62538714  0.07265755  0.76128888]]\n",
      "[[ 0.40753242  0.47606155  0.45458638]]\n",
      "\n",
      "[[-0.15490321  0.25392857 -0.24723225]\n",
      " [-0.06295152  0.14947543 -0.05947025]\n",
      " [ 0.21785473 -0.403404    0.3067025 ]]\n"
     ]
    }
   ],
   "source": [
    "# Problem 10\n",
    "x = np.random.rand(3,3)\n",
    "y = x.mean(axis=0).reshape(1,3)\n",
    "\n",
    "\n",
    "print(x)\n",
    "print(y)\n",
    "\n",
    "a = np.zeros((3,3))\n",
    "a[:,0] = x[:,0] - y[:,0]\n",
    "a[:,1] = x[:,1] - y[:,1]\n",
    "a[:,2] = x[:,2] - y[:,2]\n",
    "# a = x - y\n",
    "print()\n",
    "print(a)"
   ]
  },
  {
   "cell_type": "code",
   "execution_count": 13,
   "metadata": {
    "collapsed": false
   },
   "outputs": [
    {
     "ename": "ValueError",
     "evalue": "operands could not be broadcast together with shapes (5,5,3) (5,5) ",
     "output_type": "error",
     "traceback": [
      "\u001b[1;31m---------------------------------------------------------------------------\u001b[0m",
      "\u001b[1;31mValueError\u001b[0m                                Traceback (most recent call last)",
      "\u001b[1;32m<ipython-input-13-710274c14363>\u001b[0m in \u001b[0;36m<module>\u001b[1;34m()\u001b[0m\n\u001b[0;32m      3\u001b[0m \u001b[0mx\u001b[0m \u001b[1;33m=\u001b[0m \u001b[0mnp\u001b[0m\u001b[1;33m.\u001b[0m\u001b[0mrandom\u001b[0m\u001b[1;33m.\u001b[0m\u001b[0mrand\u001b[0m\u001b[1;33m(\u001b[0m\u001b[1;36m5\u001b[0m\u001b[1;33m,\u001b[0m\u001b[1;36m5\u001b[0m\u001b[1;33m,\u001b[0m\u001b[1;36m3\u001b[0m\u001b[1;33m)\u001b[0m\u001b[1;33m\u001b[0m\u001b[0m\n\u001b[0;32m      4\u001b[0m \u001b[0my\u001b[0m \u001b[1;33m=\u001b[0m \u001b[0mnp\u001b[0m\u001b[1;33m.\u001b[0m\u001b[0mrandom\u001b[0m\u001b[1;33m.\u001b[0m\u001b[0mrand\u001b[0m\u001b[1;33m(\u001b[0m\u001b[1;36m5\u001b[0m\u001b[1;33m,\u001b[0m\u001b[1;36m5\u001b[0m\u001b[1;33m)\u001b[0m\u001b[1;33m\u001b[0m\u001b[0m\n\u001b[1;32m----> 5\u001b[1;33m \u001b[0mprint\u001b[0m\u001b[1;33m(\u001b[0m\u001b[0mx\u001b[0m\u001b[1;33m*\u001b[0m\u001b[0my\u001b[0m\u001b[1;33m)\u001b[0m\u001b[1;33m\u001b[0m\u001b[0m\n\u001b[0m\u001b[0;32m      6\u001b[0m \u001b[1;33m\u001b[0m\u001b[0m\n\u001b[0;32m      7\u001b[0m \u001b[1;31m#Returns an error as expected. Continued in next cell.\u001b[0m\u001b[1;33m\u001b[0m\u001b[1;33m\u001b[0m\u001b[0m\n",
      "\u001b[1;31mValueError\u001b[0m: operands could not be broadcast together with shapes (5,5,3) (5,5) "
     ]
    }
   ],
   "source": [
    "# Problem 11\n",
    "\n",
    "x = np.random.rand(5,5,3)\n",
    "y = np.random.rand(5,5)\n",
    "print(x*y)\n",
    "\n",
    "#Returns an error as expected. Continued in next cell."
   ]
  },
  {
   "cell_type": "code",
   "execution_count": null,
   "metadata": {
    "collapsed": false
   },
   "outputs": [],
   "source": [
    "#Problem 11\n",
    "\n",
    "x = np.random.rand(3,5,5)\n",
    "y = np.random.rand(5,5)\n",
    "print(x*y)"
   ]
  },
  {
   "cell_type": "code",
   "execution_count": null,
   "metadata": {
    "collapsed": false
   },
   "outputs": [],
   "source": [
    "# Problem 12\n",
    "\n",
    "z = np.arange(1,15)\n",
    "a = np.zeros(4)\n",
    "b = np.zeros(4)\n",
    "\n",
    "for item in range(len(z)):\n",
    "    if item + 4 > len(z):\n",
    "        break\n",
    "    else:\n",
    "        a = z[item:item+4]\n",
    "        b = np.vstack((b,a))\n",
    "b = b[1:,:]\n",
    "print(b)"
   ]
  },
  {
   "cell_type": "code",
   "execution_count": null,
   "metadata": {
    "collapsed": false
   },
   "outputs": [],
   "source": [
    "# Problem 13\n",
    "import numpy as np\n",
    "\n",
    "def cart2polar(xy):\n",
    "    #   Return equivalent polar coordinates of specified cartesian points.\n",
    "    #   Inputs: xy: array\n",
    "    #              Nx2 array of Cartesian coordinates, with columns x and y respectively.\n",
    "    #     Returns: rp: array\n",
    "    #              Nx2 array of polar coordinates, with columns radius and angle (radians) respectively\n",
    "    \n",
    "    rp = np.zeros_like(xy)\n",
    "    rp[:,0] = np.sqrt(xy[:,0]**2 + xy[:,1]**2)\n",
    "    rp[:,1] = np.angle((xy[:,0] + xy[:,1]*1j))\n",
    "    \n",
    "    return rp\n",
    "                   \n",
    "cart2polar(np.array([[-4.,4.],[-4.,-4.]]))"
   ]
  },
  {
   "cell_type": "code",
   "execution_count": 44,
   "metadata": {
    "collapsed": false
   },
   "outputs": [
    {
     "data": {
      "text/plain": [
       "0.0010001659393310547"
      ]
     },
     "execution_count": 44,
     "metadata": {},
     "output_type": "execute_result"
    }
   ],
   "source": [
    "#Problem 14\n",
    "import time\n",
    "t_start = time.time()\n",
    "\n",
    "a = np.arange(1024.0).reshape(4, 8, 16, 2)   # a 4D array using sequential numbers\n",
    "b = np.random.rand(4, 8, 16, 2)              # a 4D array using random numbers\n",
    "sol = a * b  # element-by-element multiplication. This operation is about as fast as it can be on your computer.\n",
    "\n",
    "t_end = time.time()\n",
    "\n",
    "dte = t_end - t_start\n",
    "dte "
   ]
  },
  {
   "cell_type": "code",
   "execution_count": 45,
   "metadata": {
    "collapsed": false
   },
   "outputs": [
    {
     "data": {
      "text/plain": [
       "0.004000425338745117"
      ]
     },
     "execution_count": 45,
     "metadata": {},
     "output_type": "execute_result"
    }
   ],
   "source": [
    "#Problem 14, continued\n",
    "import time\n",
    "t_start = time.time()\n",
    "\n",
    "sol = np.zeros_like(a)\n",
    "\n",
    "for i in range(np.shape(a)[0]):\n",
    "    for j in range(np.shape(a)[1]):\n",
    "        for k in range(np.shape(a)[2]):\n",
    "            for l in range(np.shape(a)[3]):\n",
    "                sol[i,j,k,l] = a[i,j,k,l]*b[i,j,k,l]\n",
    "t_end = time.time()\n",
    "\n",
    "dtl = t_end - t_start\n",
    "dtl"
   ]
  },
  {
   "cell_type": "code",
   "execution_count": 47,
   "metadata": {
    "collapsed": false
   },
   "outputs": [
    {
     "data": {
      "text/plain": [
       "0.250014899576852"
      ]
     },
     "execution_count": 47,
     "metadata": {},
     "output_type": "execute_result"
    }
   ],
   "source": [
    "#Problem 14, continued\n",
    "# dte is the time taken to do the calulation element by element.\n",
    "# dtl is the time taken to do the calculation with nested loops.\n",
    "# dtr is the ratio of dte over dtl.\n",
    "# This ratio means that element by element multiplication is 4x faster than done with loops.\n",
    "# Might my computer have a quadcore processor?\n",
    "dtr = dte/dtl\n",
    "dtr"
   ]
  },
  {
   "cell_type": "code",
   "execution_count": 53,
   "metadata": {
    "collapsed": false
   },
   "outputs": [],
   "source": [
    "#Problem 15\n",
    "def calculate(a, b):\n",
    "    \"\"\"Do some calculations\n",
    "    \n",
    "    Take in two arrays, subtract 1/4 of the [:2,:] elements from the elements themselves.\n",
    "    Then multiply with array b and return the result.\n",
    "    \n",
    "    Inputs:\n",
    "        a: input array, shape [MxN]\n",
    "        b: input array, shape [M]\n",
    "    \n",
    "    Returns:\n",
    "        resultant array\n",
    "    \"\"\"\n",
    "\n",
    "    aa = np.copy(a[:2, :])  # A copy was made that has its own memory, and changing it won't change array(a).\n",
    "    aa /= 4.\n",
    "    a[:2, :] -= aa\n",
    "\n",
    "    return a*b[:,np.newaxis]  # Array(b) needs a new dimension so that it can be broadcast with array(a).\n",
    "    \n",
    "\n",
    "a = np.ones((3, 2))\n",
    "b = np.ones(3)*3\n",
    "res = calculate(a, b)\n",
    "\n",
    "assert (res == np.array([[ 2.25,  2.25],[ 2.25,  2.25],[ 3., 3.]])).all()"
   ]
  },
  {
   "cell_type": "code",
   "execution_count": 42,
   "metadata": {
    "collapsed": false
   },
   "outputs": [
    {
     "name": "stdout",
     "output_type": "stream",
     "text": [
      "[ -2.08397511  -1.96070053  -2.12119911 ...,  -9.56084447 -10.50707636\n",
      "  -8.83345912]\n",
      "\n",
      "\n",
      "[ 2.1580194   3.01921404  2.52794666 ...,  6.208885    5.5867116   5.1       ]\n"
     ]
    }
   ],
   "source": [
    "#Problem 16\n",
    "\n",
    "data = np.loadtxt('../python4geosciences/data/burl1h2010.txt', comments='#')\n",
    "\n",
    "direction = data[:,5]\n",
    "direction.dtype = 'float64'\n",
    "speed = data[:,6]\n",
    "speed.dtype = 'float64'\n",
    "# print(np.shape(direction))\n",
    "\n",
    "def vectorize(vdir, vspd):\n",
    "    # vspd is direction; vspd is speed. This function vectorizes components.\n",
    "    \n",
    "    u = np.cos(vdir * np.pi / 180) * vspd\n",
    "    v = np.sin(vdir * np.pi / 180) * vspd\n",
    "    \n",
    "    return(u, v)\n",
    "\n",
    "u,v = vectorize(direction, speed)\n",
    "print(u)\n",
    "print()\n",
    "print()\n",
    "print(v)\n",
    "    "
   ]
  },
  {
   "cell_type": "code",
   "execution_count": 77,
   "metadata": {
    "collapsed": false
   },
   "outputs": [],
   "source": [
    "#Problem 17\n",
    "class dataclass(object):\n",
    "    def __init__(self,filename):\n",
    "        f = open(filename)\n",
    "        switch = 0\n",
    "        self.temp = []\n",
    "        self.salt = []\n",
    "        \n",
    "        for line in f.readlines():\n",
    "            if switch == 1: \n",
    "                self.temp.append(line.split()[2])\n",
    "                self.salt.append(line.split()[5])\n",
    "            if line.split()[0] == '*END*': switch = 1\n",
    "        \n",
    "        self.temp = np.asarray(self.temp, dtype = 'float64')\n",
    "        self.salt = np.asarray(self.salt, dtype = 'float64')\n",
    "    \n",
    "    def temp_max(self):\n",
    "        return np.max(self.temp)\n",
    "        \n",
    "        \n",
    "    def salt_mean(self):\n",
    "        return np.mean(self.salt)"
   ]
  },
  {
   "cell_type": "code",
   "execution_count": 78,
   "metadata": {
    "collapsed": true
   },
   "outputs": [],
   "source": [
    "#Problem 17 continued\n",
    "\n",
    "import glob\n",
    "file_group = glob.glob('python4geosciences/data/MCH/*.cnv2')\n",
    "wind = []\n",
    "for filename in file_group:\n",
    "    wind.append(dataclass(filename))"
   ]
  },
  {
   "cell_type": "code",
   "execution_count": 81,
   "metadata": {
    "collapsed": true
   },
   "outputs": [],
   "source": [
    "#Problem 18\n",
    "#    Return the running average of a vector, with averaging window of size N.\n",
    "    \n",
    "#     Inputs:\n",
    "#         vec: Input vector\n",
    "#         N (int): Averaging window size, or number of elements to include in mean on either side of each element.\n",
    "    \n",
    "#     Outputs:\n",
    "#         out: Vector of running-averaged values; same size as vec\n",
    "\n",
    "def running_mean(array, N):\n",
    "    array = np.asarray(array, dtype='float64')\n",
    "    out = np.copy(array)\n",
    "    for index in range(N,len(array)-N):\n",
    "        out[index] = np.mean(array[index-N:index+N+1])\n",
    "        \n",
    "    return out[N:len(array)-N]"
   ]
  }
 ],
 "metadata": {
  "kernelspec": {
   "display_name": "Python 3",
   "language": "python",
   "name": "python3"
  },
  "language_info": {
   "codemirror_mode": {
    "name": "ipython",
    "version": 3
   },
   "file_extension": ".py",
   "mimetype": "text/x-python",
   "name": "python",
   "nbconvert_exporter": "python",
   "pygments_lexer": "ipython3",
   "version": "3.5.1"
  }
 },
 "nbformat": 4,
 "nbformat_minor": 0
}
