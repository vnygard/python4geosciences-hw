{
 "cells": [
  {
   "cell_type": "code",
   "execution_count": 1,
   "metadata": {
    "collapsed": false
   },
   "outputs": [
    {
     "name": "stdout",
     "output_type": "stream",
     "text": [
      "This is Vance Nygard's homework solution.\n"
     ]
    }
   ],
   "source": [
    "print('This is Vance Nygard\\'s homework solution.')"
   ]
  },
  {
   "cell_type": "code",
   "execution_count": 2,
   "metadata": {
    "collapsed": true
   },
   "outputs": [],
   "source": [
    "import numpy as np"
   ]
  },
  {
   "cell_type": "code",
   "execution_count": 27,
   "metadata": {
    "collapsed": false
   },
   "outputs": [
    {
     "name": "stdout",
     "output_type": "stream",
     "text": [
      "[ 0.  0.  0.  0.  1.  0.  0.  0.  0.  0.]\n"
     ]
    }
   ],
   "source": [
    "#Problem 1\n",
    "\n",
    "vec = np.zeros(10)\n",
    "vec[4] = 1\n",
    "print(vec)"
   ]
  },
  {
   "cell_type": "code",
   "execution_count": 28,
   "metadata": {
    "collapsed": false
   },
   "outputs": [
    {
     "name": "stdout",
     "output_type": "stream",
     "text": [
      "[10 11 12 13 14 15 16 17 18 19 20 21 22 23 24 25 26 27 28 29 30 31 32 33 34\n",
      " 35 36 37 38 39 40 41 42 43 44 45 46 47 48 49]\n"
     ]
    }
   ],
   "source": [
    "# Problem 2\n",
    "vec = np.arange(10,50)\n",
    "print(vec)"
   ]
  },
  {
   "cell_type": "code",
   "execution_count": 29,
   "metadata": {
    "collapsed": false
   },
   "outputs": [
    {
     "name": "stdout",
     "output_type": "stream",
     "text": [
      "[0 1 2 3 4 5 6 7 8 9]\n",
      "[9, 8, 7, 6, 5, 4, 3, 2, 1, 0]\n"
     ]
    }
   ],
   "source": [
    "#Problem 3\n",
    "\n",
    "def reverse(x):\n",
    "# Reverses a function, keeping the dimensions the same.\n",
    "    z = np.array(x)\n",
    "    length = len(x)\n",
    "    y = [] \n",
    "    for i,value in enumerate(x):\n",
    "        index = length - i - 1\n",
    "        inv_value = z[index]\n",
    "        y.append(inv_value)\n",
    "    return y\n",
    "\n",
    "m = np.arange(0,10)\n",
    "reverse(m)\n",
    "print(m)\n",
    "print(reverse(m))"
   ]
  },
  {
   "cell_type": "code",
   "execution_count": 30,
   "metadata": {
    "collapsed": false
   },
   "outputs": [
    {
     "data": {
      "text/plain": [
       "(array([2, 3, 5], dtype=int64),)"
      ]
     },
     "execution_count": 30,
     "metadata": {},
     "output_type": "execute_result"
    }
   ],
   "source": [
    "#Problem 4\n",
    "\n",
    "def find_nonzero(x):\n",
    "    #Find the nonzero elements of an array.\n",
    "    z = np.array(x)\n",
    "    index = np.where(z == 0)\n",
    "    return index\n",
    "    print(index)\n",
    "        \n",
    "find_nonzero(np.array([1,2,0,0,4,0]))"
   ]
  },
  {
   "cell_type": "code",
   "execution_count": 31,
   "metadata": {
    "collapsed": false
   },
   "outputs": [
    {
     "data": {
      "text/plain": [
       "array([[-1.62108902, -0.29827366,  0.10183326],\n",
       "       [-1.64241258,  1.64326746, -1.33609194],\n",
       "       [-0.51684755, -1.63253471, -1.01440902]])"
      ]
     },
     "execution_count": 31,
     "metadata": {},
     "output_type": "execute_result"
    }
   ],
   "source": [
    "#Problem 5\n",
    "\n",
    "x = 1 * np.random.randn(3,3) + 0\n",
    "x"
   ]
  },
  {
   "cell_type": "code",
   "execution_count": 32,
   "metadata": {
    "collapsed": false
   },
   "outputs": [
    {
     "name": "stdout",
     "output_type": "stream",
     "text": [
      "[[ 0.37391072  0.92923879  0.72973592  0.76466673  0.91361845  0.66311913\n",
      "   0.63992471  0.47413649  0.01375875  0.08303508]\n",
      " [ 0.44371268  0.08306698  0.92307108  0.92677922  0.82549289  0.38732032\n",
      "   0.3716443   0.93734481  0.26334899  0.54308844]\n",
      " [ 0.93599716  0.49082457  0.5441614   0.38231465  0.84589515  0.53929395\n",
      "   0.65556634  0.87185649  0.6649714   0.78891471]\n",
      " [ 0.77591539  0.53526512  0.07201195  0.1622134   0.70032156  0.24351477\n",
      "   0.7148782   0.89263884  0.22850564  0.53959574]\n",
      " [ 0.14384119  0.84196485  0.44536896  0.7307399   0.9713967   0.73850873\n",
      "   0.125127    0.13659912  0.39695225  0.78965667]\n",
      " [ 0.36747929  0.27805708  0.02933034  0.88137037  0.25995491  0.41597687\n",
      "   0.85974529  0.79580416  0.01976563  0.53541764]\n",
      " [ 0.7491136   0.57486293  0.35123461  0.09333313  0.73503117  0.34944217\n",
      "   0.14239943  0.73268617  0.77100705  0.33062728]\n",
      " [ 0.09920387  0.03192472  0.96003961  0.74651012  0.03525686  0.85700854\n",
      "   0.00125523  0.49957188  0.51595054  0.67850092]\n",
      " [ 0.0440091   0.35731285  0.63893616  0.8960853   0.84667888  0.43804947\n",
      "   0.25000385  0.94522615  0.91470838  0.86696924]\n",
      " [ 0.4757172   0.31442072  0.2120393   0.11729026  0.25862531  0.60754325\n",
      "   0.53287722  0.41564004  0.39595063  0.63405994]]\n",
      "0.0319247206146\n",
      "0.0720119530926\n"
     ]
    }
   ],
   "source": [
    "#Problem 6\n",
    "\n",
    "x = np.random.rand(10,10)\n",
    "y = x[:,1]\n",
    "z = x[3,:]\n",
    "print(x)\n",
    "print(np.amin(y))\n",
    "print(np.amin(z))"
   ]
  },
  {
   "cell_type": "code",
   "execution_count": 33,
   "metadata": {
    "collapsed": false
   },
   "outputs": [
    {
     "name": "stdout",
     "output_type": "stream",
     "text": [
      "[ 0.12742852  0.05392379  0.02401282  0.64148816  0.81013039  0.26483162\n",
      "  0.82270195  0.73790597  0.96226581  0.31962028]\n"
     ]
    }
   ],
   "source": [
    "#Problem 7\n",
    "vec = np.random.rand(10)\n",
    "vec[2] == 0\n",
    "for index, i in enumerate (vec):\n",
    "    j = np.random.rand(1)\n",
    "    if i == 0:\n",
    "        vec[index] == j\n",
    "print(vec)"
   ]
  },
  {
   "cell_type": "code",
   "execution_count": 34,
   "metadata": {
    "collapsed": false
   },
   "outputs": [
    {
     "data": {
      "text/plain": [
       "array([ 0.03400166,  0.18975295,  0.22519392,  0.30010381,  0.421286  ,\n",
       "        0.67197252,  0.67437538,  0.67760967,  0.94968923,  0.98825318])"
      ]
     },
     "execution_count": 34,
     "metadata": {},
     "output_type": "execute_result"
    }
   ],
   "source": [
    "#Problem 8\n",
    "vec = np.sort(np.random.rand(10))\n",
    "vec"
   ]
  },
  {
   "cell_type": "code",
   "execution_count": 35,
   "metadata": {
    "collapsed": false
   },
   "outputs": [
    {
     "name": "stdout",
     "output_type": "stream",
     "text": [
      "True\n",
      "False\n",
      "False\n"
     ]
    }
   ],
   "source": [
    "#Problem 9\n",
    "\n",
    "def is_equal(a,b):\n",
    "    \"Test for equality of arrays.\"\n",
    "\n",
    "    if np.size(a) == np.size(b):\n",
    "        if np.sum(a==b) == len(a):\n",
    "            return True\n",
    "    else:\n",
    "        return False\n",
    "\n",
    "s = np.arange(1,5)\n",
    "t = np.arange(1,5)\n",
    "u = np.arange(1,6)\n",
    "v = np.random.rand(1,5)\n",
    "\n",
    "print(is_equal(s,t))\n",
    "print(is_equal(s,u))\n",
    "print(is_equal(s,v))"
   ]
  },
  {
   "cell_type": "code",
   "execution_count": 36,
   "metadata": {
    "collapsed": false
   },
   "outputs": [
    {
     "name": "stdout",
     "output_type": "stream",
     "text": [
      "[[ 0.45398207  0.80490027  0.60294672]\n",
      " [ 0.79561607  0.5059969   0.16811047]\n",
      " [ 0.45896215  0.78444282  0.03625694]]\n",
      "[[ 0.56952009  0.69844666  0.26910471]]\n",
      "\n",
      "[[-0.11553802  0.10645361  0.33384201]\n",
      " [ 0.22609597 -0.19244976 -0.10099424]\n",
      " [-0.11055795  0.08599615 -0.23284777]]\n"
     ]
    }
   ],
   "source": [
    "# Problem 10\n",
    "x = np.random.rand(3,3)\n",
    "y = x.mean(axis=0).reshape(1,3)\n",
    "\n",
    "\n",
    "print(x)\n",
    "print(y)\n",
    "\n",
    "a = np.zeros((3,3))\n",
    "a[:,0] = x[:,0] - y[:,0]\n",
    "a[:,1] = x[:,1] - y[:,1]\n",
    "a[:,2] = x[:,2] - y[:,2]\n",
    "# a = x - y\n",
    "print()\n",
    "print(a)"
   ]
  },
  {
   "cell_type": "code",
   "execution_count": 37,
   "metadata": {
    "collapsed": false
   },
   "outputs": [
    {
     "ename": "ValueError",
     "evalue": "operands could not be broadcast together with shapes (5,5,3) (5,5) ",
     "output_type": "error",
     "traceback": [
      "\u001b[1;31m---------------------------------------------------------------------------\u001b[0m",
      "\u001b[1;31mValueError\u001b[0m                                Traceback (most recent call last)",
      "\u001b[1;32m<ipython-input-37-710274c14363>\u001b[0m in \u001b[0;36m<module>\u001b[1;34m()\u001b[0m\n\u001b[0;32m      3\u001b[0m \u001b[0mx\u001b[0m \u001b[1;33m=\u001b[0m \u001b[0mnp\u001b[0m\u001b[1;33m.\u001b[0m\u001b[0mrandom\u001b[0m\u001b[1;33m.\u001b[0m\u001b[0mrand\u001b[0m\u001b[1;33m(\u001b[0m\u001b[1;36m5\u001b[0m\u001b[1;33m,\u001b[0m\u001b[1;36m5\u001b[0m\u001b[1;33m,\u001b[0m\u001b[1;36m3\u001b[0m\u001b[1;33m)\u001b[0m\u001b[1;33m\u001b[0m\u001b[0m\n\u001b[0;32m      4\u001b[0m \u001b[0my\u001b[0m \u001b[1;33m=\u001b[0m \u001b[0mnp\u001b[0m\u001b[1;33m.\u001b[0m\u001b[0mrandom\u001b[0m\u001b[1;33m.\u001b[0m\u001b[0mrand\u001b[0m\u001b[1;33m(\u001b[0m\u001b[1;36m5\u001b[0m\u001b[1;33m,\u001b[0m\u001b[1;36m5\u001b[0m\u001b[1;33m)\u001b[0m\u001b[1;33m\u001b[0m\u001b[0m\n\u001b[1;32m----> 5\u001b[1;33m \u001b[0mprint\u001b[0m\u001b[1;33m(\u001b[0m\u001b[0mx\u001b[0m\u001b[1;33m*\u001b[0m\u001b[0my\u001b[0m\u001b[1;33m)\u001b[0m\u001b[1;33m\u001b[0m\u001b[0m\n\u001b[0m\u001b[0;32m      6\u001b[0m \u001b[1;33m\u001b[0m\u001b[0m\n\u001b[0;32m      7\u001b[0m \u001b[1;31m#Returns an error as expected. Continued in next cell.\u001b[0m\u001b[1;33m\u001b[0m\u001b[1;33m\u001b[0m\u001b[0m\n",
      "\u001b[1;31mValueError\u001b[0m: operands could not be broadcast together with shapes (5,5,3) (5,5) "
     ]
    }
   ],
   "source": [
    "# Problem 11\n",
    "\n",
    "x = np.random.rand(5,5,3)\n",
    "y = np.random.rand(5,5)\n",
    "print(x*y)\n",
    "\n",
    "#Returns an error as expected. Continued in next cell."
   ]
  },
  {
   "cell_type": "code",
   "execution_count": 38,
   "metadata": {
    "collapsed": false
   },
   "outputs": [
    {
     "name": "stdout",
     "output_type": "stream",
     "text": [
      "[[[ 0.10549302  0.10513833  0.17665961  0.10296679  0.112134  ]\n",
      "  [ 0.2524754   0.02219194  0.34266553  0.09510513  0.01115249]\n",
      "  [ 0.04404914  0.03357736  0.06021436  0.18706498  0.33674533]\n",
      "  [ 0.19086009  0.10752273  0.13071003  0.01983718  0.0315411 ]\n",
      "  [ 0.39665235  0.00500729  0.43348452  0.1595635   0.61115209]]\n",
      "\n",
      " [[ 0.0122183   0.22229231  0.19770057  0.11856625  0.18559485]\n",
      "  [ 0.29534917  0.09885937  0.00613135  0.06705121  0.01323717]\n",
      "  [ 0.54902491  0.01693867  0.31363869  0.23737189  0.41007788]\n",
      "  [ 0.19942552  0.06189906  0.24325053  0.36915055  0.16190203]\n",
      "  [ 0.16816974  0.01934054  0.52348725  0.04545958  0.74160526]]\n",
      "\n",
      " [[ 0.21909759  0.02355034  0.0623901   0.13963388  0.2627551 ]\n",
      "  [ 0.25355742  0.0468006   0.26275583  0.13502635  0.00800877]\n",
      "  [ 0.27103439  0.01777396  0.1360978   0.0592055   0.44214087]\n",
      "  [ 0.14722166  0.3392268   0.01677632  0.42016126  0.07658466]\n",
      "  [ 0.01899909  0.01872659  0.64573488  0.21534356  0.75330342]]]\n"
     ]
    }
   ],
   "source": [
    "#Problem 11\n",
    "\n",
    "x = np.random.rand(3,5,5)\n",
    "y = np.random.rand(5,5)\n",
    "print(x*y)"
   ]
  },
  {
   "cell_type": "code",
   "execution_count": 39,
   "metadata": {
    "collapsed": false
   },
   "outputs": [
    {
     "name": "stdout",
     "output_type": "stream",
     "text": [
      "[[  1.   2.   3.   4.]\n",
      " [  2.   3.   4.   5.]\n",
      " [  3.   4.   5.   6.]\n",
      " [  4.   5.   6.   7.]\n",
      " [  5.   6.   7.   8.]\n",
      " [  6.   7.   8.   9.]\n",
      " [  7.   8.   9.  10.]\n",
      " [  8.   9.  10.  11.]\n",
      " [  9.  10.  11.  12.]\n",
      " [ 10.  11.  12.  13.]\n",
      " [ 11.  12.  13.  14.]]\n"
     ]
    }
   ],
   "source": [
    "# Problem 12\n",
    "\n",
    "z = np.arange(1,15)\n",
    "a = np.zeros(4)\n",
    "b = np.zeros(4)\n",
    "\n",
    "for item in range(len(z)):\n",
    "    if item + 4 > len(z):\n",
    "        break\n",
    "    else:\n",
    "        a = z[item:item+4]\n",
    "        b = np.vstack((b,a))\n",
    "b = b[1:,:]\n",
    "print(b)"
   ]
  },
  {
   "cell_type": "code",
   "execution_count": 40,
   "metadata": {
    "collapsed": false
   },
   "outputs": [
    {
     "data": {
      "text/plain": [
       "array([[ 5.65685425,  2.35619449],\n",
       "       [ 5.65685425, -2.35619449]])"
      ]
     },
     "execution_count": 40,
     "metadata": {},
     "output_type": "execute_result"
    }
   ],
   "source": [
    "# Problem 13\n",
    "import numpy as np\n",
    "\n",
    "def cart2polar(xy):\n",
    "    #   Return equivalent polar coordinates of specified cartesian points.\n",
    "    #   Inputs: xy: array\n",
    "    #              Nx2 array of Cartesian coordinates, with columns x and y respectively.\n",
    "    #     Returns: rp: array\n",
    "    #              Nx2 array of polar coordinates, with columns radius and angle (radians) respectively\n",
    "    \n",
    "    rp = np.zeros_like(xy)\n",
    "    rp[:,0] = np.sqrt(xy[:,0]**2 + xy[:,1]**2)\n",
    "    rp[:,1] = np.angle((xy[:,0] + xy[:,1]*1j))\n",
    "    \n",
    "    return rp\n",
    "                   \n",
    "cart2polar(np.array([[-4.,4.],[-4.,-4.]]))"
   ]
  },
  {
   "cell_type": "code",
   "execution_count": 3,
   "metadata": {
    "collapsed": false
   },
   "outputs": [
    {
     "data": {
      "text/plain": [
       "0.026000022888183594"
      ]
     },
     "execution_count": 3,
     "metadata": {},
     "output_type": "execute_result"
    }
   ],
   "source": [
    "#Problem 14\n",
    "import time\n",
    "t_start = time.time()\n",
    "\n",
    "a = np.arange(1024.0).reshape(4, 8, 16, 2)   # a 4D array using sequential numbers\n",
    "b = np.random.rand(4, 8, 16, 2)              # a 4D array using random numbers\n",
    "sol = a * b  # element-by-element multiplication. This operation is about as fast as it can be on your computer.\n",
    "\n",
    "t_end = time.time()\n",
    "\n",
    "dte = t_end - t_start\n",
    "dte"
   ]
  },
  {
   "cell_type": "code",
   "execution_count": 4,
   "metadata": {
    "collapsed": false
   },
   "outputs": [
    {
     "name": "stdout",
     "output_type": "stream",
     "text": [
      "True\n"
     ]
    },
    {
     "data": {
      "text/plain": [
       "0.005000114440917969"
      ]
     },
     "execution_count": 4,
     "metadata": {},
     "output_type": "execute_result"
    }
   ],
   "source": [
    "#Problem 14, continued\n",
    "import time\n",
    "t_start = time.time()\n",
    "\n",
    "sol2 = np.zeros_like(a)\n",
    "\n",
    "for i in range(np.shape(a)[0]):\n",
    "    for j in range(np.shape(a)[1]):\n",
    "        for k in range(np.shape(a)[2]):\n",
    "            for l in range(np.shape(a)[3]):\n",
    "                s = a[i,j,k,l]*b[i,j,k,l]\n",
    "                sol2[i,j,k,l] = s\n",
    "t_end = time.time()\n",
    "\n",
    "print(np.all(sol==sol2))\n",
    "\n",
    "dtl = t_end - t_start\n",
    "dtl"
   ]
  },
  {
   "cell_type": "code",
   "execution_count": 5,
   "metadata": {
    "collapsed": false
   },
   "outputs": [
    {
     "data": {
      "text/plain": [
       "5.199885561701316"
      ]
     },
     "execution_count": 5,
     "metadata": {},
     "output_type": "execute_result"
    }
   ],
   "source": [
    "#Problem 14, continued\n",
    "# dte is the time taken to do the calulation element by element.\n",
    "# dtl is the time taken to do the calculation with nested loops.\n",
    "# dtr is the ratio of dte over dtl.\n",
    "# This ratio means that element by element multiplication is ~4x faster than done with loops.\n",
    "# Might my computer have a quadcore processor?\n",
    "dtr = dte/dtl\n",
    "dtr"
   ]
  },
  {
   "cell_type": "code",
   "execution_count": 44,
   "metadata": {
    "collapsed": false
   },
   "outputs": [],
   "source": [
    "#Problem 15\n",
    "def calculate(a, b):\n",
    "    \"\"\"Do some calculations\n",
    "    \n",
    "    Take in two arrays, subtract 1/4 of the [:2,:] elements from the elements themselves.\n",
    "    Then multiply with array b and return the result.\n",
    "    \n",
    "    Inputs:\n",
    "        a: input array, shape [MxN]\n",
    "        b: input array, shape [M]\n",
    "    \n",
    "    Returns:\n",
    "        resultant array\n",
    "    \"\"\"\n",
    "\n",
    "    aa = np.copy(a[:2, :])  # A copy was made that has its own memory, and changing it won't change array(a).\n",
    "    aa /= 4.\n",
    "    a[:2, :] -= aa\n",
    "\n",
    "    return a*b[:,np.newaxis]  # Array(b) needs a new dimension so that it can be broadcast with array(a).\n",
    "    \n",
    "\n",
    "a = np.ones((3, 2))\n",
    "b = np.ones(3)*3\n",
    "res = calculate(a, b)\n",
    "\n",
    "assert (res == np.array([[ 2.25,  2.25],[ 2.25,  2.25],[ 3., 3.]])).all()"
   ]
  },
  {
   "cell_type": "code",
   "execution_count": 45,
   "metadata": {
    "collapsed": false
   },
   "outputs": [
    {
     "name": "stdout",
     "output_type": "stream",
     "text": [
      "[ -2.08397511  -1.96070053  -2.12119911 ...,  -9.56084447 -10.50707636\n",
      "  -8.83345912]\n",
      "\n",
      "\n",
      "[ 2.1580194   3.01921404  2.52794666 ...,  6.208885    5.5867116   5.1       ]\n"
     ]
    }
   ],
   "source": [
    "#Problem 16\n",
    "\n",
    "data = np.loadtxt('../python4geosciences/data/burl1h2010.txt', comments='#')\n",
    "\n",
    "direction = data[:,5]\n",
    "direction.dtype = 'float64'\n",
    "speed = data[:,6]\n",
    "speed.dtype = 'float64'\n",
    "# print(np.shape(direction))\n",
    "\n",
    "def vectorize(vdir, vspd):\n",
    "    # vspd is direction; vspd is speed. This function vectorizes components.\n",
    "    \n",
    "    u = np.cos(vdir * np.pi / 180) * vspd\n",
    "    v = np.sin(vdir * np.pi / 180) * vspd\n",
    "    \n",
    "    return(u, v)\n",
    "\n",
    "u,v = vectorize(direction, speed)\n",
    "print(u)\n",
    "print()\n",
    "print()\n",
    "print(v)\n",
    "    "
   ]
  },
  {
   "cell_type": "code",
   "execution_count": 49,
   "metadata": {
    "collapsed": false
   },
   "outputs": [],
   "source": [
    "#Problem 17\n",
    "class dataclass(object):\n",
    "    def __init__(self,filename):\n",
    "        f = open(filename)\n",
    "        switch = 0\n",
    "        self.temp = []\n",
    "        self.salt = []\n",
    "        \n",
    "        for line in f.readlines():\n",
    "            if switch == 1: \n",
    "                self.temp.append(line.split()[2])\n",
    "                self.salt.append(line.split()[5])\n",
    "            if line.split()[0] == '*END*': switch = 1\n",
    "        \n",
    "        self.temp = np.asarray(self.temp, dtype = 'float64')\n",
    "        self.salt = np.asarray(self.salt, dtype = 'float64')\n",
    "    \n",
    "    def temp_max(self):\n",
    "        return np.max(self.temp)\n",
    "        \n",
    "        \n",
    "    def salt_mean(self):\n",
    "        return np.mean(self.salt)"
   ]
  },
  {
   "cell_type": "code",
   "execution_count": 53,
   "metadata": {
    "collapsed": true
   },
   "outputs": [],
   "source": [
    "#Problem 17 continued\n",
    "\n",
    "import glob\n",
    "file_group = glob.glob('python4geosciences/data/MCH/*.cnv2')\n",
    "wind = []\n",
    "for filename in file_group:\n",
    "    wind.append(dataclass(filename))"
   ]
  },
  {
   "cell_type": "code",
   "execution_count": 55,
   "metadata": {
    "collapsed": false
   },
   "outputs": [
    {
     "ename": "IndexError",
     "evalue": "list index out of range",
     "output_type": "error",
     "traceback": [
      "\u001b[1;31m---------------------------------------------------------------------------\u001b[0m",
      "\u001b[1;31mIndexError\u001b[0m                                Traceback (most recent call last)",
      "\u001b[1;32m<ipython-input-55-06aca5fee5bc>\u001b[0m in \u001b[0;36m<module>\u001b[1;34m()\u001b[0m\n\u001b[1;32m----> 1\u001b[1;33m \u001b[0mwind\u001b[0m\u001b[1;33m[\u001b[0m\u001b[1;36m1\u001b[0m\u001b[1;33m]\u001b[0m\u001b[1;33m.\u001b[0m\u001b[0msalt\u001b[0m\u001b[1;33m(\u001b[0m\u001b[1;33m)\u001b[0m\u001b[1;33m\u001b[0m\u001b[0m\n\u001b[0m",
      "\u001b[1;31mIndexError\u001b[0m: list index out of range"
     ]
    }
   ],
   "source": [
    "wind[1].salt()"
   ]
  },
  {
   "cell_type": "code",
   "execution_count": 48,
   "metadata": {
    "collapsed": true
   },
   "outputs": [],
   "source": [
    "#Problem 18\n",
    "#    Return the running average of a vector, with averaging window of size N.\n",
    "    \n",
    "#     Inputs:\n",
    "#         vec: Input vector\n",
    "#         N (int): Averaging window size, or number of elements to include in mean on either side of each element.\n",
    "    \n",
    "#     Outputs:\n",
    "#         out: Vector of running-averaged values; same size as vec\n",
    "\n",
    "def running_mean(array, N):\n",
    "    array = np.asarray(array, dtype='float64')\n",
    "    out = np.copy(array)\n",
    "    for index in range(N,len(array)-N):\n",
    "        out[index] = np.mean(array[index-N:index+N+1])\n",
    "        \n",
    "    return out[N:len(array)-N]"
   ]
  },
  {
   "cell_type": "code",
   "execution_count": null,
   "metadata": {
    "collapsed": true
   },
   "outputs": [],
   "source": []
  },
  {
   "cell_type": "code",
   "execution_count": null,
   "metadata": {
    "collapsed": true
   },
   "outputs": [],
   "source": []
  },
  {
   "cell_type": "code",
   "execution_count": null,
   "metadata": {
    "collapsed": true
   },
   "outputs": [],
   "source": []
  }
 ],
 "metadata": {
  "kernelspec": {
   "display_name": "Python 2",
   "language": "python",
   "name": "python2"
  },
  "language_info": {
   "codemirror_mode": {
    "name": "ipython",
    "version": 2
   },
   "file_extension": ".py",
   "mimetype": "text/x-python",
   "name": "python",
   "nbconvert_exporter": "python",
   "pygments_lexer": "ipython2",
   "version": "2.7.11"
  }
 },
 "nbformat": 4,
 "nbformat_minor": 0
}
