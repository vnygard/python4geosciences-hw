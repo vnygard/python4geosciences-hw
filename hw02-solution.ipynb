{
 "cells": [
  {
   "cell_type": "code",
   "execution_count": 16,
   "metadata": {
    "collapsed": true
   },
   "outputs": [],
   "source": [
    "d = {'Vance Nygard':'Williston','Oceanography':'graduate student','1 year at TAMU':'I want to learn the basics of Python'}"
   ]
  },
  {
   "cell_type": "code",
   "execution_count": 17,
   "metadata": {
    "collapsed": false
   },
   "outputs": [
    {
     "data": {
      "text/plain": [
       "{'1 year at TAMU': 'I want to learn the basics of Python',\n",
       " 'Oceanography': 'graduate student',\n",
       " 'Vance Nygard': 'Williston'}"
      ]
     },
     "execution_count": 17,
     "metadata": {},
     "output_type": "execute_result"
    }
   ],
   "source": [
    "d"
   ]
  },
  {
   "cell_type": "code",
   "execution_count": 15,
   "metadata": {
    "collapsed": false
   },
   "outputs": [],
   "source": [
    "vowels = ['a','e','i','o','u']\n",
    "def ifvowel(str):\n",
    "    'Return whether or not input is a vowel.'\n",
    "    if str == 'a': \n",
    "        print ('True.');\n",
    "    elif str == 'e': \n",
    "        print ('True.')\n",
    "    elif str == 'i': \n",
    "        print ('True.')\n",
    "    elif str == 'o': \n",
    "        print ('True.')\n",
    "    elif str == 'u': \n",
    "        print ('True.')\n",
    "    elif str == 'y':\n",
    "        print ('Sometimes.')\n",
    "    else : print('False.')"
   ]
  },
  {
   "cell_type": "code",
   "execution_count": 17,
   "metadata": {
    "collapsed": false
   },
   "outputs": [
    {
     "name": "stdout",
     "output_type": "stream",
     "text": [
      "True.\n"
     ]
    }
   ],
   "source": [
    "ifvowel('a')"
   ]
  },
  {
   "cell_type": "code",
   "execution_count": 5,
   "metadata": {
    "collapsed": false
   },
   "outputs": [],
   "source": [
    "string = 'string'\n",
    "\n",
    "def length(a):\n",
    "    \"Returns length of string or list\"\n",
    "    \n",
    "    n=0\n",
    "    for i in a:\n",
    "        n = n+1\n",
    "            \n",
    "    return(n)"
   ]
  },
  {
   "cell_type": "code",
   "execution_count": 8,
   "metadata": {
    "collapsed": false
   },
   "outputs": [
    {
     "data": {
      "text/plain": [
       "6"
      ]
     },
     "execution_count": 8,
     "metadata": {},
     "output_type": "execute_result"
    }
   ],
   "source": [
    "length([1,2,3,4,5,7])"
   ]
  },
  {
   "cell_type": "code",
   "execution_count": 71,
   "metadata": {
    "collapsed": false
   },
   "outputs": [],
   "source": [
    "def reverse(a):\n",
    "    \"Returns the reverse of a string or list\"\n",
    "    \n",
    "    b = ''\n",
    "    for i in range(len(a)-1,-1,-1):\n",
    "        b = b + a[i] \n",
    "    \n",
    "    return b"
   ]
  },
  {
   "cell_type": "code",
   "execution_count": 72,
   "metadata": {
    "collapsed": false
   },
   "outputs": [
    {
     "data": {
      "text/plain": [
       "'nixil'"
      ]
     },
     "execution_count": 72,
     "metadata": {},
     "output_type": "execute_result"
    }
   ],
   "source": [
    "reverse('lixin')"
   ]
  },
  {
   "cell_type": "code",
   "execution_count": 15,
   "metadata": {
    "collapsed": false
   },
   "outputs": [
    {
     "data": {
      "text/plain": [
       "'Vance'"
      ]
     },
     "execution_count": 15,
     "metadata": {},
     "output_type": "execute_result"
    }
   ],
   "source": [
    "reverse('ecnaV')"
   ]
  },
  {
   "cell_type": "code",
   "execution_count": 32,
   "metadata": {
    "collapsed": true
   },
   "outputs": [],
   "source": [
    "def if_palindrome(a):\n",
    "    \"\"\"Returns wheter or not a word is a palindrome.\"\"\"\n",
    "    \n",
    "    a = a.upper()\n",
    "    b = a.split(' ') \n",
    "    c = ''\n",
    "    \n",
    "    for i in b:\n",
    "        c = c + i\n",
    "    return c == reverse(c)"
   ]
  },
  {
   "cell_type": "code",
   "execution_count": 35,
   "metadata": {
    "collapsed": false
   },
   "outputs": [
    {
     "data": {
      "text/plain": [
       "False"
      ]
     },
     "execution_count": 35,
     "metadata": {},
     "output_type": "execute_result"
    }
   ],
   "source": [
    "if_palindrome('Never 0DD or even')"
   ]
  },
  {
   "cell_type": "code",
   "execution_count": 44,
   "metadata": {
    "collapsed": false
   },
   "outputs": [],
   "source": [
    "filename = open('text.txt')"
   ]
  },
  {
   "cell_type": "code",
   "execution_count": 54,
   "metadata": {
    "collapsed": false
   },
   "outputs": [],
   "source": [
    "filename = open('text.txt')\n",
    "n = 1\n",
    "newfile = open('text2.txt','w')\n",
    "\n",
    "for line in filename:\n",
    "    if line == \"\\n\":\n",
    "        newfile.write(line)\n",
    "        \n",
    "    else :\n",
    "        newfile.write(str(n) + ' '+ line)\n",
    "        n = n + 1\n",
    "\n",
    "newfile.close()"
   ]
  },
  {
   "cell_type": "code",
   "execution_count": 102,
   "metadata": {
    "collapsed": true
   },
   "outputs": [],
   "source": [
    "def method1(a):\n",
    "    \"Returns list whose elements are the length of corresponding words.\"\n",
    "    \n",
    "    b=[]\n",
    "    for i in a:\n",
    "        b.append(length(i))\n",
    "    return b    \n",
    "\n",
    "def method2(c):\n",
    "    \"Returns list whose elements are the length of corresponding words.\"\n",
    "\n",
    "    b = map(length,c)\n",
    "    return b\n",
    "    \n",
    "def method3(a):\n",
    "    \"Returns list whose elements are the length of corresponding words.\"\n",
    "\n",
    "    return([length(i)for i in a])"
   ]
  },
  {
   "cell_type": "code",
   "execution_count": 101,
   "metadata": {
    "collapsed": false
   },
   "outputs": [
    {
     "name": "stdout",
     "output_type": "stream",
     "text": [
      "[5, 2, 1, 4]\n",
      "[5, 2, 1, 4]\n"
     ]
    }
   ],
   "source": [
    "print(method1(['Lixin', 'is','a', 'cook']))\n",
    "print(method3(['Lixin', 'is','a', 'cook']))"
   ]
  },
  {
   "cell_type": "code",
   "execution_count": 98,
   "metadata": {
    "collapsed": false
   },
   "outputs": [],
   "source": [
    "a = ['Lixin', 'is','a', 'cook']\n",
    "map?"
   ]
  },
  {
   "cell_type": "code",
   "execution_count": 173,
   "metadata": {
    "collapsed": false
   },
   "outputs": [],
   "source": [
    "def decode(a):\n",
    "    \"Return a decrypted message\"\n",
    "    \n",
    "    key = {'a':'n', 'b':'o', 'c':'p', 'd':'q', 'e':'r', 'f':'s', 'g':'t', 'h':'u', \n",
    "       'i':'v', 'j':'w', 'k':'x', 'l':'y', 'm':'z', 'n':'a', 'o':'b', 'p':'c', \n",
    "       'q':'d', 'r':'e', 's':'f', 't':'g', 'u':'h', 'v':'i', 'w':'j', 'x':'k',\n",
    "       'y':'l', 'z':'m', 'A':'N', 'B':'O', 'C':'P', 'D':'Q', 'E':'R', 'F':'S', \n",
    "       'G':'T', 'H':'U', 'I':'V', 'J':'W', 'K':'X', 'L':'Y', 'M':'Z', 'N':'A', \n",
    "       'O':'B', 'P':'C', 'Q':'D', 'R':'E', 'S':'F', 'T':'G', 'U':'H', 'V':'I', \n",
    "       'W':'J', 'X':'K', 'Y':'L', 'Z':'M'}\n",
    "    b=''\n",
    "    \n",
    "    for i in a:\n",
    "        if i in key.keys():\n",
    "            b = b + str(key.get(i))\n",
    "        \n",
    "        else :\n",
    "            b = b + str(i)\n",
    "        \n",
    "    return b"
   ]
  },
  {
   "cell_type": "code",
   "execution_count": 172,
   "metadata": {
    "collapsed": true
   },
   "outputs": [],
   "source": [
    "key = {'a':'n', 'b':'o', 'c':'p', 'd':'q', 'e':'r', 'f':'s', 'g':'t', 'h':'u', \n",
    "       'i':'v', 'j':'w', 'k':'x', 'l':'y', 'm':'z', 'n':'a', 'o':'b', 'p':'c', \n",
    "       'q':'d', 'r':'e', 's':'f', 't':'g', 'u':'h', 'v':'i', 'w':'j', 'x':'k',\n",
    "       'y':'l', 'z':'m', 'A':'N', 'B':'O', 'C':'P', 'D':'Q', 'E':'R', 'F':'S', \n",
    "       'G':'T', 'H':'U', 'I':'V', 'J':'W', 'K':'X', 'L':'Y', 'M':'Z', 'N':'A', \n",
    "       'O':'B', 'P':'C', 'Q':'D', 'R':'E', 'S':'F', 'T':'G', 'U':'H', 'V':'I', \n",
    "       'W':'J', 'X':'K', 'Y':'L', 'Z':'M'}\n",
    "key.items?"
   ]
  },
  {
   "cell_type": "code",
   "execution_count": 175,
   "metadata": {
    "collapsed": false
   },
   "outputs": [
    {
     "data": {
      "text/plain": [
       "'Caesar cipher? I much prefer Caesar salad!'"
      ]
     },
     "execution_count": 175,
     "metadata": {},
     "output_type": "execute_result"
    }
   ],
   "source": [
    "decode('Pnrfne pvcure? V zhpu cersre Pnrfne fnynq!')"
   ]
  },
  {
   "cell_type": "code",
   "execution_count": 184,
   "metadata": {
    "collapsed": false
   },
   "outputs": [
    {
     "name": "stdout",
     "output_type": "stream",
     "text": [
      "6 bottles of beer on the wall, 6 bottles of beer.\n",
      "Take one down, pass it around, 5 bottles of beer on the wall.\n",
      "\n",
      "5 bottles of beer on the wall, 5 bottles of beer.\n",
      "Take one down, pass it around, 4 bottles of beer on the wall.\n",
      "\n",
      "4 bottles of beer on the wall, 4 bottles of beer.\n",
      "Take one down, pass it around, 3 bottles of beer on the wall.\n",
      "\n",
      "3 bottles of beer on the wall, 3 bottles of beer.\n",
      "Take one down, pass it around, 2 bottles of beer on the wall.\n",
      "\n",
      "2 bottles of beer on the wall, 2 bottles of beer.\n",
      "Take one down, pass it around, 1 bottles of beer on the wall.\n",
      "\n",
      "1 bottle of beer on the wall, 1 bottle of beer.\n",
      "Take one down, pass it around, 0 bottles of beer on the wall.\n",
      "\n"
     ]
    }
   ],
   "source": [
    "def words(num):\n",
    "    \"\"\"Returns words with proper number of beer bottles filled in.\"\"\"\n",
    "    \n",
    "    if num != 1:\n",
    "        return (str(num) + ' bottles of beer on the wall, ' + str(num) + ' bottles of beer.\\n' + \n",
    "                'Take one down, pass it around, ' + str(num-1) + ' bottles of beer on the wall.\\n')\n",
    "\n",
    "    elif num == 1:\n",
    "        return (str(num) + ' bottle of beer on the wall, ' + str(num) + ' bottle of beer.\\n' +\n",
    "            'Take one down, pass it around, ' + str(num-1) + ' bottles of beer on the wall.\\n')\n",
    "\n",
    "\n",
    "numbottles = 6\n",
    "        \n",
    "for i in range(numbottles,0,-1):\n",
    "    print(words(i))"
   ]
  },
  {
   "cell_type": "code",
   "execution_count": 13,
   "metadata": {
    "collapsed": true
   },
   "outputs": [],
   "source": [
    "from datetime import datetime as datetime"
   ]
  },
  {
   "cell_type": "code",
   "execution_count": 31,
   "metadata": {
    "collapsed": false
   },
   "outputs": [
    {
     "data": {
      "text/plain": [
       "datetime.datetime(2006, 5, 20, 13, 34, 55)"
      ]
     },
     "execution_count": 31,
     "metadata": {},
     "output_type": "execute_result"
    }
   ],
   "source": [
    "time = '5/20/2006 1:34:55 PM'\n",
    "datetime(int(time[5:9]),int(time[0]),int(time[2:4]), int(time[10])+12,int(time[12:14]),int(time[15:17]))\n",
    "        "
   ]
  },
  {
   "cell_type": "code",
   "execution_count": 3,
   "metadata": {
    "collapsed": false
   },
   "outputs": [],
   "source": [
    "from datetime import datetime"
   ]
  },
  {
   "cell_type": "code",
   "execution_count": 4,
   "metadata": {
    "collapsed": false
   },
   "outputs": [],
   "source": [
    "f.readlines?"
   ]
  },
  {
   "cell_type": "code",
   "execution_count": 5,
   "metadata": {
    "collapsed": false
   },
   "outputs": [],
   "source": [
    "f = open('..\\python4geosciences\\data\\GPS.dat')    \n",
    "\n",
    "d = []\n",
    "for i,line in enumerate(f.readlines()):\n",
    "    data = line.split('\\t')\n",
    "    \n",
    "    if data[0] == 'Trackpoint':\n",
    "#         print (i)\n",
    "#         print (data[2][5:9])\n",
    "        year = int(data[2][5:9])\n",
    "        month = int(data[2][0])\n",
    "        day = int(data[2][2:4])\n",
    "        hour = int(data[2][10]) + 12\n",
    "        minute = int(data[2][12:14])\n",
    "        second = int(data[2][15:17])\n",
    "        d.append(datetime(year,month,day,hour,minute,second))\n",
    "        \n",
    "\n",
    "    elif data[0] == 'Track':\n",
    "            if data [1]!= 'ACTIVE LOG':\n",
    "                break\n",
    "            \n",
    "        \n",
    "#         d.append(datetime(int(),int(data[2][0]),int(data[2][2:4]), int(data[2][10])+12,int(data[2][12:14]),int(data[2][15:17])))\n",
    "        \n",
    "        \n",
    "\n"
   ]
  },
  {
   "cell_type": "code",
   "execution_count": 64,
   "metadata": {
    "collapsed": false
   },
   "outputs": [],
   "source": [
    "d ={}\n",
    "d.get?\n"
   ]
  },
  {
   "cell_type": "code",
   "execution_count": 31,
   "metadata": {
    "collapsed": false
   },
   "outputs": [
    {
     "name": "stdout",
     "output_type": "stream",
     "text": [
      "{'longitude': 0, 'latitude': 42.810183333333335}\n"
     ]
    }
   ],
   "source": [
    "f.seek(0)\n",
    "tracks = {}\n",
    "items = []\n",
    "d = {}\n",
    "for i,line in enumerate(f.readlines()):\n",
    "    data = line.split('\\t')\n",
    "    \n",
    "    if not data:\n",
    "        continue\n",
    "    \n",
    "    if data[0] == 'Track':\n",
    "        items.append(data[1])\n",
    "        tracks[list] = d\n",
    "        a = i+1\n",
    "        \n",
    "        for k in f.readlines(a):\n",
    "            if data[k] == 'Leg Speed':\n",
    "                data[p] == data[k]\n",
    "                \n",
    "#                 for data[0] == 'Track':\n",
    "#                     continue\n",
    "                \n",
    "                speed = data[p][0:3]\n",
    "                speed = float(speed)\n",
    "                d['speed'] == speed\n",
    "                \n",
    "                if data[p] == '':\n",
    "                    continue\n",
    "    \n",
    "    if data[0] == 'Trackpoint':\n",
    "        lat1 = data[1][1:3]\n",
    "        lat1 = float(lat1)\n",
    "        lat2 = data[1][4:10]\n",
    "        lat2 = float(lat2)\n",
    "        d['latitude'] = (lat1 + (lat2)/60)\n",
    "        d['longitude'] = int(data[1][13:15])\n",
    "        \n",
    "# print (d)"
   ]
  },
  {
   "cell_type": "code",
   "execution_count": 121,
   "metadata": {
    "collapsed": false
   },
   "outputs": [],
   "source": [
    "#Taylor Series from k = 0 to k = n\n",
    "def factorial(n):\n",
    "    if n==1:\n",
    "        return 1\n",
    "    else:\n",
    "        return n * factorial(n-1) \n",
    "\n",
    "\n",
    "def Taylorsin(x):\n",
    "    'Taylor Series Approximation of the sin function.'\n",
    "\n",
    "    term = 0\n",
    "    for k in range(5):\n",
    "        term = term + (((-1)**k) * (x**(1+2*k)))/(factorial(1+2*k))\n",
    "        \n",
    "    return term"
   ]
  },
  {
   "cell_type": "code",
   "execution_count": 122,
   "metadata": {
    "collapsed": false
   },
   "outputs": [
    {
     "data": {
      "text/plain": [
       "0.4794255386164159"
      ]
     },
     "execution_count": 122,
     "metadata": {},
     "output_type": "execute_result"
    }
   ],
   "source": [
    "Taylorsin(0.5)"
   ]
  },
  {
   "cell_type": "code",
   "execution_count": 98,
   "metadata": {
    "collapsed": false
   },
   "outputs": [
    {
     "data": {
      "text/plain": [
       "0.47942553860420301"
      ]
     },
     "execution_count": 98,
     "metadata": {},
     "output_type": "execute_result"
    }
   ],
   "source": [
    "np.sin(0.5)"
   ]
  },
  {
   "cell_type": "code",
   "execution_count": null,
   "metadata": {
    "collapsed": true
   },
   "outputs": [],
   "source": []
  }
 ],
 "metadata": {
  "kernelspec": {
   "display_name": "Python 3",
   "language": "python",
   "name": "python3"
  },
  "language_info": {
   "codemirror_mode": {
    "name": "ipython",
    "version": 3
   },
   "file_extension": ".py",
   "mimetype": "text/x-python",
   "name": "python",
   "nbconvert_exporter": "python",
   "pygments_lexer": "ipython3",
   "version": "3.5.1"
  }
 },
 "nbformat": 4,
 "nbformat_minor": 0
}
