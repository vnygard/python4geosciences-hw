{
 "cells": [
  {
   "cell_type": "code",
   "execution_count": 1,
   "metadata": {
    "collapsed": false
   },
   "outputs": [
    {
     "name": "stdout",
     "output_type": "stream",
     "text": [
      "These are Vance Nygard's solutions for Problem 6 of hw04.\n"
     ]
    }
   ],
   "source": [
    "print('These are Vance Nygard\\'s solutions for Problem 6 of hw04.')"
   ]
  },
  {
   "cell_type": "code",
   "execution_count": 2,
   "metadata": {
    "collapsed": false
   },
   "outputs": [],
   "source": [
    "%matplotlib inline\n",
    "import matplotlib.pyplot as plt\n",
    "import numpy as np\n",
    "import datetime\n",
    "from mpl_toolkits.basemap import Basemap\n",
    "# import cmocean"
   ]
  },
  {
   "cell_type": "code",
   "execution_count": 11,
   "metadata": {
    "collapsed": false
   },
   "outputs": [],
   "source": [
    "file_name  =  '../python4geosciences/data/surface_temp_predictions.npz'\n",
    "lon, lat, mean_surf_temp = np.load(file_name)['arr_0']"
   ]
  },
  {
   "cell_type": "code",
   "execution_count": 13,
   "metadata": {
    "collapsed": false,
    "scrolled": true
   },
   "outputs": [
    {
     "name": "stdout",
     "output_type": "stream",
     "text": [
      "0\n",
      "1\n",
      "2\n",
      "3\n",
      "4\n",
      "5\n",
      "6\n",
      "7\n",
      "8\n",
      "9\n",
      "10\n",
      "11\n",
      "12\n",
      "13\n",
      "14\n",
      "15\n",
      "16\n",
      "17\n",
      "18\n",
      "19\n",
      "20\n",
      "21\n",
      "22\n",
      "23\n",
      "24\n",
      "25\n",
      "26\n",
      "27\n",
      "28\n",
      "29\n",
      "30\n",
      "31\n",
      "32\n",
      "33\n",
      "34\n",
      "35\n",
      "36\n",
      "37\n",
      "38\n",
      "39\n",
      "40\n",
      "41\n",
      "42\n",
      "43\n",
      "44\n",
      "45\n",
      "46\n",
      "47\n",
      "48\n",
      "49\n",
      "50\n",
      "51\n",
      "52\n",
      "53\n",
      "54\n",
      "55\n",
      "56\n",
      "57\n",
      "58\n",
      "59\n",
      "60\n",
      "61\n",
      "62\n",
      "63\n",
      "64\n",
      "65\n",
      "66\n",
      "67\n",
      "68\n",
      "69\n",
      "70\n",
      "71\n",
      "72\n",
      "73\n",
      "74\n",
      "75\n",
      "76\n",
      "77\n",
      "78\n",
      "79\n",
      "80\n",
      "81\n",
      "82\n",
      "83\n",
      "84\n",
      "85\n",
      "86\n",
      "87\n",
      "88\n",
      "89\n",
      "90\n",
      "91\n",
      "92\n",
      "93\n",
      "94\n",
      "95\n",
      "96\n",
      "97\n",
      "98\n",
      "99\n"
     ]
    }
   ],
   "source": [
    "m = Basemap(projection='kav7',lon_0=-180,resolution='c')\n",
    "\n",
    "for frame_number in range(100):\n",
    "    print frame_number\n",
    "    # plot commands\n",
    "    fig = plt.figure(figsize=(10, 7))\n",
    "    ax = fig.add_subplot(111)\n",
    "\n",
    "    a = m.fillcontinents()\n",
    "    LON, LAT = np.meshgrid(lon,lat)\n",
    "    X, Y = m(LON,LAT)\n",
    "    pcm = ax.pcolormesh(X, Y, np.squeeze(mean_surf_temp[frame_number,:,:]-273.15), shading='flat',cmap=plt.cm.afmhot,vmin=-30,vmax=30)\n",
    "    m.drawmeridians(np.linspace(0, 360, 7),\n",
    "                    # dashes=[1, 0],\n",
    "                    labels=[0,0,0,0])\n",
    "    m.drawparallels(np.linspace(-90, 90, 7),\n",
    "                    # dashes=[1, 0],\n",
    "                    labels=[0,0,0,0])\n",
    "    frame_name = 'frame_%03d.png' % frame_number\n",
    "    # add colorbar\n",
    "    cb = m.colorbar(pcm,\"bottom\", size=\"5%\", pad=\"2%\")\n",
    "    # add a title.\n",
    "    ax.set_title(\"Annual Mean Surface Air Temperature\")\n",
    "    cb.set_label('Surface Air Temperature [C]')\n",
    "    fig.savefig(frame_name, format='png')\n",
    "    plt.close()"
   ]
  }
 ],
 "metadata": {
  "kernelspec": {
   "display_name": "Python 2",
   "language": "python",
   "name": "python2"
  },
  "language_info": {
   "codemirror_mode": {
    "name": "ipython",
    "version": 2
   },
   "file_extension": ".py",
   "mimetype": "text/x-python",
   "name": "python",
   "nbconvert_exporter": "python",
   "pygments_lexer": "ipython2",
   "version": "2.7.11"
  }
 },
 "nbformat": 4,
 "nbformat_minor": 0
}
